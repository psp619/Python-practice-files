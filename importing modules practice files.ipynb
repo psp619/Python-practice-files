{
 "cells": [
  {
   "cell_type": "code",
   "execution_count": 1,
   "metadata": {},
   "outputs": [],
   "source": [
    "import burgers\n"
   ]
  },
  {
   "cell_type": "code",
   "execution_count": 2,
   "metadata": {},
   "outputs": [
    {
     "name": "stdout",
     "output_type": "stream",
     "text": [
      "\n",
      "ordering   of the 12 inch pizza:\n",
      "panner\n",
      "panner\n",
      "panner\n",
      "panner\n",
      "panner\n",
      "panner\n",
      "\n",
      "ordering   of the 5 inch pizza:\n",
      "chandu\n",
      "chandu\n",
      "chandu\n",
      "chandu\n",
      "chandu\n",
      "chandu\n"
     ]
    }
   ],
   "source": [
    "burgers.order_burger(12,'panner')# ordered by panner\n",
    "burgers.order_burger(5,'chandu')#ordered by chandu\n"
   ]
  },
  {
   "cell_type": "code",
   "execution_count": 3,
   "metadata": {},
   "outputs": [],
   "source": [
    "import burgers\n"
   ]
  },
  {
   "cell_type": "code",
   "execution_count": 4,
   "metadata": {},
   "outputs": [
    {
     "name": "stdout",
     "output_type": "stream",
     "text": [
      "\n",
      "ordering   of the 16 inch pizza:\n",
      "chilli\n",
      "chilli\n",
      "chilli\n",
      "chilli\n",
      "chilli\n",
      "chilli\n"
     ]
    }
   ],
   "source": [
    "burgers.order_burger(16,'chilli')\n"
   ]
  },
  {
   "cell_type": "code",
   "execution_count": 5,
   "metadata": {},
   "outputs": [],
   "source": [
    "import burgers\n"
   ]
  },
  {
   "cell_type": "code",
   "execution_count": 6,
   "metadata": {},
   "outputs": [
    {
     "name": "stdout",
     "output_type": "stream",
     "text": [
      "\n",
      "ordering   of the 4 inch pizza:\n",
      "hot\n",
      "hot\n",
      "hot\n"
     ]
    }
   ],
   "source": [
    "burgers.order_burger(4,'hot')\n"
   ]
  },
  {
   "cell_type": "code",
   "execution_count": null,
   "metadata": {},
   "outputs": [],
   "source": [
    "#hi fiaz why am i getting the output like this please help\n"
   ]
  }
 ],
 "metadata": {
  "kernelspec": {
   "display_name": "Python 3",
   "language": "python",
   "name": "python3"
  },
  "language_info": {
   "codemirror_mode": {
    "name": "ipython",
    "version": 3
   },
   "file_extension": ".py",
   "mimetype": "text/x-python",
   "name": "python",
   "nbconvert_exporter": "python",
   "pygments_lexer": "ipython3",
   "version": "3.7.3"
  }
 },
 "nbformat": 4,
 "nbformat_minor": 2
}
