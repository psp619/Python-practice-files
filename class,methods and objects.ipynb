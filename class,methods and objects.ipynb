{
 "cells": [
  {
   "cell_type": "code",
   "execution_count": 1,
   "metadata": {},
   "outputs": [],
   "source": [
    "class checkresults():\n",
    "    \n",
    "    def log_into_website(self):\n",
    "        print(\"please enter your hall ticekt number\")\n",
    "        \n",
    "    def display_the_results(self):\n",
    "        print(\"displays the results\")\n",
    "        \n",
    "    def show_end_result(self):\n",
    "        print(\"fail or pass\")\n",
    "        \n",
    "abc = checkresults()\n",
    "\n",
    "# now assigned the arguments to self"
   ]
  },
  {
   "cell_type": "code",
   "execution_count": 3,
   "metadata": {},
   "outputs": [
    {
     "ename": "TypeError",
     "evalue": "log_into_website() takes 0 positional arguments but 1 was given",
     "output_type": "error",
     "traceback": [
      "\u001b[1;31m---------------------------------------------------------------------------\u001b[0m",
      "\u001b[1;31mTypeError\u001b[0m                                 Traceback (most recent call last)",
      "\u001b[1;32m<ipython-input-3-aef32be02cb7>\u001b[0m in \u001b[0;36m<module>\u001b[1;34m\u001b[0m\n\u001b[1;32m----> 1\u001b[1;33m \u001b[0mabc\u001b[0m\u001b[1;33m.\u001b[0m\u001b[0mlog_into_website\u001b[0m\u001b[1;33m(\u001b[0m\u001b[1;33m)\u001b[0m\u001b[1;33m\u001b[0m\u001b[1;33m\u001b[0m\u001b[0m\n\u001b[0m\u001b[0;32m      2\u001b[0m \u001b[1;33m\u001b[0m\u001b[0m\n",
      "\u001b[1;31mTypeError\u001b[0m: log_into_website() takes 0 positional arguments but 1 was given"
     ]
    }
   ],
   "source": [
    "abc.log_into_website()\n",
    "\n"
   ]
  },
  {
   "cell_type": "code",
   "execution_count": null,
   "metadata": {},
   "outputs": [],
   "source": [
    "# i have forgotten to assign the argument to self.\n"
   ]
  },
  {
   "cell_type": "code",
   "execution_count": 4,
   "metadata": {},
   "outputs": [],
   "source": [
    "class checkresults():\n",
    "    \n",
    "    def log_into_website(self):\n",
    "        print(\"please enter your hall ticekt number\")\n",
    "        \n",
    "    def display_the_results(self):\n",
    "        print(\"displays the results\")\n",
    "        \n",
    "    def show_end_result(self):\n",
    "        print(\"fail or pass\")\n",
    "        \n",
    "abc = checkresults()\n",
    "\n"
   ]
  },
  {
   "cell_type": "code",
   "execution_count": 5,
   "metadata": {},
   "outputs": [
    {
     "name": "stdout",
     "output_type": "stream",
     "text": [
      "please enter your hall ticekt number\n"
     ]
    }
   ],
   "source": [
    "abc.log_into_website()\n"
   ]
  },
  {
   "cell_type": "code",
   "execution_count": 6,
   "metadata": {},
   "outputs": [
    {
     "name": "stdout",
     "output_type": "stream",
     "text": [
      "displays the results\n"
     ]
    }
   ],
   "source": [
    "abc.display_the_results()\n"
   ]
  },
  {
   "cell_type": "code",
   "execution_count": 7,
   "metadata": {},
   "outputs": [
    {
     "name": "stdout",
     "output_type": "stream",
     "text": [
      "fail or pass\n"
     ]
    }
   ],
   "source": [
    "abc.show_end_result()\n"
   ]
  },
  {
   "cell_type": "code",
   "execution_count": 15,
   "metadata": {},
   "outputs": [
    {
     "ename": "SyntaxError",
     "evalue": "invalid syntax (<ipython-input-15-73e4c75c65d4>, line 13)",
     "output_type": "error",
     "traceback": [
      "\u001b[1;36m  File \u001b[1;32m\"<ipython-input-15-73e4c75c65d4>\"\u001b[1;36m, line \u001b[1;32m13\u001b[0m\n\u001b[1;33m    if final reslut >= 50:\u001b[0m\n\u001b[1;37m                  ^\u001b[0m\n\u001b[1;31mSyntaxError\u001b[0m\u001b[1;31m:\u001b[0m invalid syntax\n"
     ]
    }
   ],
   "source": [
    "class checkresults():\n",
    "    \n",
    "    def log_into_website(self):\n",
    "        input(\"please enter your hall ticekt number\")\n",
    "        print(\"\\n the hall ticekt\")\n",
    "        \n",
    "        \n",
    "    def display_the_results(self):\n",
    "        print(\"displays the results\")\n",
    "        \n",
    "    def show_end_result(self):\n",
    "        input('final result')\n",
    "        \n",
    "    if final result >= 50:\n",
    "        print('you are passed')\n",
    "        else:\n",
    "            print('you are failed')\n",
    "            \n",
    "        \n",
    "            \n",
    "\n",
    "        \n",
    "        \n",
    "abc = checkresults()\n",
    "\n",
    "\n",
    "\n",
    "\n",
    "\n"
   ]
  },
  {
   "cell_type": "code",
   "execution_count": 13,
   "metadata": {},
   "outputs": [
    {
     "name": "stdout",
     "output_type": "stream",
     "text": [
      "please enter your hall ticekt number420\n",
      "\n",
      " the hall ticekt\n"
     ]
    }
   ],
   "source": [
    "abc.log_into_website()\n",
    "\n",
    "\n"
   ]
  },
  {
   "cell_type": "code",
   "execution_count": 17,
   "metadata": {},
   "outputs": [
    {
     "ename": "SyntaxError",
     "evalue": "invalid syntax (<ipython-input-17-8797d8c3b070>, line 15)",
     "output_type": "error",
     "traceback": [
      "\u001b[1;36m  File \u001b[1;32m\"<ipython-input-17-8797d8c3b070>\"\u001b[1;36m, line \u001b[1;32m15\u001b[0m\n\u001b[1;33m    if final result >= 50:\u001b[0m\n\u001b[1;37m                  ^\u001b[0m\n\u001b[1;31mSyntaxError\u001b[0m\u001b[1;31m:\u001b[0m invalid syntax\n"
     ]
    }
   ],
   "source": [
    "\n",
    "class checkresults():\n",
    "    \n",
    "    def log_into_website(self):\n",
    "        input(\"please enter your hall ticekt number\")\n",
    "        print(\"\\n the hall ticekt\")\n",
    "        \n",
    "        \n",
    "    def display_the_results(self):\n",
    "        print(\"displays the results\")\n",
    "        \n",
    "    def show_end_result(self):\n",
    "        input('final result')\n",
    "        \n",
    "if final result >= 50:\n",
    "    print('you are passed')\n",
    "        \n",
    "        else:\n",
    "            print('you are failed')\n",
    "            \n",
    "            \n",
    "            "
   ]
  },
  {
   "cell_type": "code",
   "execution_count": 18,
   "metadata": {},
   "outputs": [
    {
     "ename": "SyntaxError",
     "evalue": "invalid syntax (<ipython-input-18-58d4fd15f7cc>, line 14)",
     "output_type": "error",
     "traceback": [
      "\u001b[1;36m  File \u001b[1;32m\"<ipython-input-18-58d4fd15f7cc>\"\u001b[1;36m, line \u001b[1;32m14\u001b[0m\n\u001b[1;33m    if final result >= 50:\u001b[0m\n\u001b[1;37m                  ^\u001b[0m\n\u001b[1;31mSyntaxError\u001b[0m\u001b[1;31m:\u001b[0m invalid syntax\n"
     ]
    }
   ],
   "source": [
    "class checkresults():\n",
    "    \n",
    "    def log_into_website(self):\n",
    "        input(\"please enter your hall ticekt number\")\n",
    "        print(\"\\n the hall ticekt\")\n",
    "        \n",
    "        \n",
    "    def display_the_results(self):\n",
    "        print(\"displays the results\")\n",
    "        \n",
    "    def show_end_result(self):\n",
    "        input('final result')\n",
    "        \n",
    "    if final result >= 50:\n",
    "        print('you are passed')\n",
    "        \n",
    "        else:\n",
    "            print('you are failed')\n",
    "            "
   ]
  },
  {
   "cell_type": "code",
   "execution_count": 19,
   "metadata": {},
   "outputs": [
    {
     "ename": "SyntaxError",
     "evalue": "invalid syntax (<ipython-input-19-1f1f8cb9f763>, line 14)",
     "output_type": "error",
     "traceback": [
      "\u001b[1;36m  File \u001b[1;32m\"<ipython-input-19-1f1f8cb9f763>\"\u001b[1;36m, line \u001b[1;32m14\u001b[0m\n\u001b[1;33m    if final result >= 50:\u001b[0m\n\u001b[1;37m                  ^\u001b[0m\n\u001b[1;31mSyntaxError\u001b[0m\u001b[1;31m:\u001b[0m invalid syntax\n"
     ]
    }
   ],
   "source": [
    "class checkresults():\n",
    "    \n",
    "    def log_into_website(self):\n",
    "        input(\"please enter your hall ticekt number\")\n",
    "        print(\"\\n the hall ticekt\")\n",
    "        \n",
    "        \n",
    "    def display_the_results(self):\n",
    "        print(\"displays the results\")\n",
    "        \n",
    "    def show_end_result(self):\n",
    "        input('final result')\n",
    "        \n",
    "    if final result>= 50:\n",
    "        print('you are passed')\n",
    "        \n",
    "        else:\n",
    "            print('you are failed')\n",
    "            \n",
    "            "
   ]
  },
  {
   "cell_type": "code",
   "execution_count": 21,
   "metadata": {},
   "outputs": [
    {
     "ename": "SyntaxError",
     "evalue": "invalid syntax (<ipython-input-21-301fc0247ca8>, line 14)",
     "output_type": "error",
     "traceback": [
      "\u001b[1;36m  File \u001b[1;32m\"<ipython-input-21-301fc0247ca8>\"\u001b[1;36m, line \u001b[1;32m14\u001b[0m\n\u001b[1;33m    if final result >=50:\u001b[0m\n\u001b[1;37m                  ^\u001b[0m\n\u001b[1;31mSyntaxError\u001b[0m\u001b[1;31m:\u001b[0m invalid syntax\n"
     ]
    }
   ],
   "source": [
    "class checkresults():\n",
    "    \n",
    "    def log_into_website(self):\n",
    "        input(\"please enter your hall ticekt number\")\n",
    "        print(\"\\n the hall ticekt\")\n",
    "        \n",
    "        \n",
    "    def display_the_results(self):\n",
    "        print(\"displays the results\")\n",
    "        \n",
    "    def show_end_result(self):\n",
    "        input('final result')\n",
    "        \n",
    "    if final result >=50:\n",
    "        print('you are passed')\n",
    "        \n",
    "        else:\n",
    "            print('you are failed')\n",
    "            \n",
    "            \n",
    "            \n",
    "            "
   ]
  },
  {
   "cell_type": "code",
   "execution_count": 23,
   "metadata": {},
   "outputs": [
    {
     "ename": "SyntaxError",
     "evalue": "invalid syntax (<ipython-input-23-cfdfc9b53628>, line 14)",
     "output_type": "error",
     "traceback": [
      "\u001b[1;36m  File \u001b[1;32m\"<ipython-input-23-cfdfc9b53628>\"\u001b[1;36m, line \u001b[1;32m14\u001b[0m\n\u001b[1;33m    if final result >=50:\u001b[0m\n\u001b[1;37m                  ^\u001b[0m\n\u001b[1;31mSyntaxError\u001b[0m\u001b[1;31m:\u001b[0m invalid syntax\n"
     ]
    }
   ],
   "source": [
    "class checkresults():\n",
    "    \n",
    "    def log_into_website(self):\n",
    "        input(\"please enter your hall ticekt number\")\n",
    "        print(\"\\n the hall ticekt\")\n",
    "        \n",
    "        \n",
    "    def display_the_results(self):\n",
    "        print(\"displays the results\")\n",
    "        \n",
    "    def show_end_result(self):\n",
    "        input('final result')\n",
    "        \n",
    "    if final result >=50:\n",
    "        print('you are passed')\n",
    "        \n",
    "    else:\n",
    "        print('you are failed')\n",
    "        \n",
    "            \n",
    "            "
   ]
  },
  {
   "cell_type": "code",
   "execution_count": null,
   "metadata": {},
   "outputs": [],
   "source": [
    "# hi fiaz i am repatedly getting the above error when i tried evrything \n",
    "# i am trying to print a program using class to find out the user pass or fail \n"
   ]
  }
 ],
 "metadata": {
  "kernelspec": {
   "display_name": "Python 3",
   "language": "python",
   "name": "python3"
  },
  "language_info": {
   "codemirror_mode": {
    "name": "ipython",
    "version": 3
   },
   "file_extension": ".py",
   "mimetype": "text/x-python",
   "name": "python",
   "nbconvert_exporter": "python",
   "pygments_lexer": "ipython3",
   "version": "3.7.3"
  }
 },
 "nbformat": 4,
 "nbformat_minor": 2
}
